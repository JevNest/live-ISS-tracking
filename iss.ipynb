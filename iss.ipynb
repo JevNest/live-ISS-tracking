{
 "cells": [
  {
   "cell_type": "code",
   "execution_count": 2,
   "id": "a970cd66",
   "metadata": {},
   "outputs": [
    {
     "name": "stdout",
     "output_type": "stream",
     "text": [
      "Requirement already satisfied: Dash in e:\\projects\\ds\\live iss tracking\\.venv\\lib\\site-packages (3.2.0)\n",
      "Requirement already satisfied: Flask<3.2,>=1.0.4 in e:\\projects\\ds\\live iss tracking\\.venv\\lib\\site-packages (from Dash) (3.1.2)\n",
      "Requirement already satisfied: Werkzeug<3.2 in e:\\projects\\ds\\live iss tracking\\.venv\\lib\\site-packages (from Dash) (3.1.3)\n",
      "Requirement already satisfied: plotly>=5.0.0 in e:\\projects\\ds\\live iss tracking\\.venv\\lib\\site-packages (from Dash) (6.3.0)\n",
      "Requirement already satisfied: importlib-metadata in e:\\projects\\ds\\live iss tracking\\.venv\\lib\\site-packages (from Dash) (8.7.0)\n",
      "Requirement already satisfied: typing-extensions>=4.1.1 in e:\\projects\\ds\\live iss tracking\\.venv\\lib\\site-packages (from Dash) (4.15.0)\n",
      "Requirement already satisfied: requests in e:\\projects\\ds\\live iss tracking\\.venv\\lib\\site-packages (from Dash) (2.32.5)\n",
      "Requirement already satisfied: retrying in e:\\projects\\ds\\live iss tracking\\.venv\\lib\\site-packages (from Dash) (1.4.2)\n",
      "Requirement already satisfied: nest-asyncio in e:\\projects\\ds\\live iss tracking\\.venv\\lib\\site-packages (from Dash) (1.6.0)\n",
      "Requirement already satisfied: setuptools in e:\\projects\\ds\\live iss tracking\\.venv\\lib\\site-packages (from Dash) (80.9.0)\n",
      "Requirement already satisfied: blinker>=1.9.0 in e:\\projects\\ds\\live iss tracking\\.venv\\lib\\site-packages (from Flask<3.2,>=1.0.4->Dash) (1.9.0)\n",
      "Requirement already satisfied: click>=8.1.3 in e:\\projects\\ds\\live iss tracking\\.venv\\lib\\site-packages (from Flask<3.2,>=1.0.4->Dash) (8.2.1)\n",
      "Requirement already satisfied: itsdangerous>=2.2.0 in e:\\projects\\ds\\live iss tracking\\.venv\\lib\\site-packages (from Flask<3.2,>=1.0.4->Dash) (2.2.0)\n",
      "Requirement already satisfied: jinja2>=3.1.2 in e:\\projects\\ds\\live iss tracking\\.venv\\lib\\site-packages (from Flask<3.2,>=1.0.4->Dash) (3.1.6)\n",
      "Requirement already satisfied: markupsafe>=2.1.1 in e:\\projects\\ds\\live iss tracking\\.venv\\lib\\site-packages (from Flask<3.2,>=1.0.4->Dash) (3.0.2)\n",
      "Requirement already satisfied: colorama in e:\\projects\\ds\\live iss tracking\\.venv\\lib\\site-packages (from click>=8.1.3->Flask<3.2,>=1.0.4->Dash) (0.4.6)\n",
      "Requirement already satisfied: narwhals>=1.15.1 in e:\\projects\\ds\\live iss tracking\\.venv\\lib\\site-packages (from plotly>=5.0.0->Dash) (2.2.0)\n",
      "Requirement already satisfied: packaging in e:\\projects\\ds\\live iss tracking\\.venv\\lib\\site-packages (from plotly>=5.0.0->Dash) (25.0)\n",
      "Requirement already satisfied: zipp>=3.20 in e:\\projects\\ds\\live iss tracking\\.venv\\lib\\site-packages (from importlib-metadata->Dash) (3.23.0)\n",
      "Requirement already satisfied: charset_normalizer<4,>=2 in e:\\projects\\ds\\live iss tracking\\.venv\\lib\\site-packages (from requests->Dash) (3.4.3)\n",
      "Requirement already satisfied: idna<4,>=2.5 in e:\\projects\\ds\\live iss tracking\\.venv\\lib\\site-packages (from requests->Dash) (3.10)\n",
      "Requirement already satisfied: urllib3<3,>=1.21.1 in e:\\projects\\ds\\live iss tracking\\.venv\\lib\\site-packages (from requests->Dash) (2.5.0)\n",
      "Requirement already satisfied: certifi>=2017.4.17 in e:\\projects\\ds\\live iss tracking\\.venv\\lib\\site-packages (from requests->Dash) (2025.8.3)\n"
     ]
    }
   ],
   "source": [
    "!pip install Dash"
   ]
  },
  {
   "cell_type": "code",
   "execution_count": 5,
   "id": "21babf24",
   "metadata": {},
   "outputs": [
    {
     "name": "stdout",
     "output_type": "stream",
     "text": [
      "Requirement already satisfied: pandas in e:\\projects\\ds\\live iss tracking\\.venv\\lib\\site-packages (2.3.2)\n",
      "Requirement already satisfied: numpy>=1.26.0 in e:\\projects\\ds\\live iss tracking\\.venv\\lib\\site-packages (from pandas) (2.3.2)\n",
      "Requirement already satisfied: python-dateutil>=2.8.2 in e:\\projects\\ds\\live iss tracking\\.venv\\lib\\site-packages (from pandas) (2.9.0.post0)\n",
      "Requirement already satisfied: pytz>=2020.1 in e:\\projects\\ds\\live iss tracking\\.venv\\lib\\site-packages (from pandas) (2025.2)\n",
      "Requirement already satisfied: tzdata>=2022.7 in e:\\projects\\ds\\live iss tracking\\.venv\\lib\\site-packages (from pandas) (2025.2)\n",
      "Requirement already satisfied: six>=1.5 in e:\\projects\\ds\\live iss tracking\\.venv\\lib\\site-packages (from python-dateutil>=2.8.2->pandas) (1.17.0)\n"
     ]
    }
   ],
   "source": [
    "!pip install pandas"
   ]
  },
  {
   "cell_type": "code",
   "execution_count": 9,
   "id": "6d5ad3d0",
   "metadata": {},
   "outputs": [
    {
     "name": "stdout",
     "output_type": "stream",
     "text": [
      "Requirement already satisfied: datetime in e:\\projects\\ds\\live iss tracking\\.venv\\lib\\site-packages (5.5)\n",
      "Requirement already satisfied: zope.interface in e:\\projects\\ds\\live iss tracking\\.venv\\lib\\site-packages (from datetime) (7.2)\n",
      "Requirement already satisfied: pytz in e:\\projects\\ds\\live iss tracking\\.venv\\lib\\site-packages (from datetime) (2025.2)\n",
      "Requirement already satisfied: setuptools in e:\\projects\\ds\\live iss tracking\\.venv\\lib\\site-packages (from zope.interface->datetime) (80.9.0)\n"
     ]
    }
   ],
   "source": [
    "!pip install datetime"
   ]
  },
  {
   "cell_type": "code",
   "execution_count": 10,
   "id": "44fe58b0",
   "metadata": {},
   "outputs": [
    {
     "name": "stdout",
     "output_type": "stream",
     "text": [
      "Requirement already satisfied: pytz in e:\\projects\\ds\\live iss tracking\\.venv\\lib\\site-packages (2025.2)\n"
     ]
    }
   ],
   "source": [
    "!pip install pytz"
   ]
  },
  {
   "cell_type": "code",
   "execution_count": null,
   "id": "bcaada67",
   "metadata": {},
   "outputs": [
    {
     "data": {
      "text/html": [
       "\n",
       "        <iframe\n",
       "            width=\"100%\"\n",
       "            height=\"650\"\n",
       "            src=\"http://127.0.0.1:8050/\"\n",
       "            frameborder=\"0\"\n",
       "            allowfullscreen\n",
       "            \n",
       "        ></iframe>\n",
       "        "
      ],
      "text/plain": [
       "<IPython.lib.display.IFrame at 0x2aeecbdb740>"
      ]
     },
     "metadata": {},
     "output_type": "display_data"
    },
    {
     "name": "stderr",
     "output_type": "stream",
     "text": [
      "C:\\Users\\JD\\AppData\\Local\\Temp\\ipykernel_6632\\3154910500.py:55: FutureWarning:\n",
      "\n",
      "The behavior of DataFrame concatenation with empty or all-NA entries is deprecated. In a future version, this will no longer exclude empty or all-NA columns when determining the result dtypes. To retain the old behavior, exclude the relevant entries before the concat operation.\n",
      "\n"
     ]
    },
    {
     "name": "stdout",
     "output_type": "stream",
     "text": [
      "Error: HTTPConnectionPool(host='api.open-notify.org', port=80): Max retries exceeded with url: /iss-now.json (Caused by ConnectTimeoutError(<urllib3.connection.HTTPConnection object at 0x000002AEECBD9970>, 'Connection to api.open-notify.org timed out. (connect timeout=10)'))\n",
      "Error: HTTPConnectionPool(host='api.open-notify.org', port=80): Max retries exceeded with url: /iss-now.json (Caused by ConnectTimeoutError(<urllib3.connection.HTTPConnection object at 0x000002AEECBD9B80>, 'Connection to api.open-notify.org timed out. (connect timeout=10)'))\n",
      "Error: HTTPConnectionPool(host='api.open-notify.org', port=80): Max retries exceeded with url: /iss-now.json (Caused by ConnectTimeoutError(<urllib3.connection.HTTPConnection object at 0x000002AEECC12EA0>, 'Connection to api.open-notify.org timed out. (connect timeout=10)'))\n",
      "Error: ('Connection aborted.', RemoteDisconnected('Remote end closed connection without response'))\n",
      "Error: HTTPConnectionPool(host='api.open-notify.org', port=80): Max retries exceeded with url: /iss-now.json (Caused by ConnectTimeoutError(<urllib3.connection.HTTPConnection object at 0x000002AEECBDA0F0>, 'Connection to api.open-notify.org timed out. (connect timeout=10)'))\n",
      "Error: HTTPConnectionPool(host='api.open-notify.org', port=80): Max retries exceeded with url: /iss-now.json (Caused by ConnectTimeoutError(<urllib3.connection.HTTPConnection object at 0x000002AEECC10B00>, 'Connection to api.open-notify.org timed out. (connect timeout=10)'))\n",
      "Error: HTTPConnectionPool(host='api.open-notify.org', port=80): Max retries exceeded with url: /iss-now.json (Caused by ConnectTimeoutError(<urllib3.connection.HTTPConnection object at 0x000002AEECC110A0>, 'Connection to api.open-notify.org timed out. (connect timeout=10)'))\n",
      "Error: HTTPConnectionPool(host='api.open-notify.org', port=80): Max retries exceeded with url: /iss-now.json (Caused by ConnectTimeoutError(<urllib3.connection.HTTPConnection object at 0x000002AEECAF8EC0>, 'Connection to api.open-notify.org timed out. (connect timeout=10)'))\n",
      "Error: HTTPConnectionPool(host='api.open-notify.org', port=80): Max retries exceeded with url: /iss-now.json (Caused by ConnectTimeoutError(<urllib3.connection.HTTPConnection object at 0x000002AEECC131D0>, 'Connection to api.open-notify.org timed out. (connect timeout=10)'))\n",
      "Error: HTTPConnectionPool(host='api.open-notify.org', port=80): Max retries exceeded with url: /iss-now.json (Caused by ConnectTimeoutError(<urllib3.connection.HTTPConnection object at 0x000002AEECC131A0>, 'Connection to api.open-notify.org timed out. (connect timeout=10)'))\n",
      "Error: HTTPConnectionPool(host='api.open-notify.org', port=80): Max retries exceeded with url: /iss-now.json (Caused by ConnectTimeoutError(<urllib3.connection.HTTPConnection object at 0x000002AEECC12900>, 'Connection to api.open-notify.org timed out. (connect timeout=10)'))\n",
      "Error: HTTPConnectionPool(host='api.open-notify.org', port=80): Max retries exceeded with url: /iss-now.json (Caused by ConnectTimeoutError(<urllib3.connection.HTTPConnection object at 0x000002AEECC11BE0>, 'Connection to api.open-notify.org timed out. (connect timeout=10)'))\n"
     ]
    }
   ],
   "source": [
    "import time\n",
    "import requests\n",
    "import pandas as pd\n",
    "from datetime import datetime\n",
    "import pytz\n",
    "import plotly.graph_objects as go\n",
    "from dash import Dash, dcc, html, Input, Output\n",
    "\n",
    "# API\n",
    "Iss_API = 'http://api.open-notify.org/iss-now.json'\n",
    "update_interval_ms = 5000\n",
    "trial_length = 100\n",
    "\n",
    "# fetch iss position\n",
    "def fetch_iss_position():\n",
    "    try:\n",
    "        r = requests.get(Iss_API, timeout=10)\n",
    "        data = r.json()\n",
    "        lat = float(data['iss_position']['latitude'])\n",
    "        lon = float(data['iss_position']['longitude'])\n",
    "        ts = int(data.get('timestamp', time.time()))\n",
    "        return lat, lon, ts\n",
    "    except Exception as e:\n",
    "        print('Error:', e)\n",
    "        return None\n",
    "\n",
    "# Initial figure\n",
    "fig = go.Figure()\n",
    "\n",
    "# dash app\n",
    "app = Dash(__name__)\n",
    "app.layout = html.Div([\n",
    "    html.H3(\"Real Time ISS Tracking\"),\n",
    "    dcc.Graph(id=\"map\", figure=fig, style={\"height\": \"85vh\"}),\n",
    "    dcc.Interval(id=\"interval\", interval=update_interval_ms, n_intervals=0),\n",
    "    html.Div(id=\"status\", style={\"padding\": \"10px\", \"fontSize\": \"14px\"})\n",
    "])\n",
    "\n",
    "# storing iss trail\n",
    "trail_df = pd.DataFrame(columns=[\"ts\", \"Latitude\", \"Longitude\"])\n",
    "\n",
    "@app.callback(\n",
    "    Output(\"map\", \"figure\"),\n",
    "    Output(\"status\", \"children\"),\n",
    "    Input(\"interval\", \"n_intervals\")\n",
    ")\n",
    "def update_map(n):\n",
    "    global trail_df, fig\n",
    "    position = fetch_iss_position()\n",
    "    if position is None:\n",
    "        return fig, \"Failed to fetch ISS position.\"\n",
    " \n",
    "    lat, lon, ts = position\n",
    "    new_row = {\"ts\": ts, \"Latitude\": lat, \"Longitude\": lon}\n",
    "    trail_df = pd.concat([trail_df, pd.DataFrame([new_row])], ignore_index=True)\n",
    "\n",
    "    if len(trail_df) > trial_length:\n",
    "        trail_df = trail_df.iloc[-trial_length:]\n",
    "\n",
    "    fig = go.Figure()\n",
    "\n",
    "    # trail\n",
    "    fig.add_trace(go.Scattergeo(\n",
    "        lon=trail_df[\"Longitude\"],\n",
    "        lat=trail_df[\"Latitude\"],\n",
    "        mode='lines',\n",
    "        line={\"width\": 2, \"color\": \"blue\"},\n",
    "        name=\"Trail\"\n",
    "    ))\n",
    "\n",
    "    # Current ISS marker\n",
    "    fig.add_trace(go.Scattergeo(\n",
    "        lon=[lon],\n",
    "        lat=[lat],\n",
    "        mode='markers',\n",
    "        marker={\"size\": 10, \"color\": \"red\"},\n",
    "        name=\"Current\"\n",
    "    ))\n",
    "\n",
    "    fig.update_geos(\n",
    "        projection_type=\"natural earth\",\n",
    "        showcoastlines=True, coastlinecolor=\"Black\",\n",
    "        showland=True, landcolor=\"rgb(230,230,230)\",\n",
    "        showocean=True, oceancolor=\"LightBlue\",\n",
    "    )\n",
    "\n",
    "    fig.update_layout(title=\"Real Time ISS Tracking\")\n",
    "    status = f\"Last Updated: {time.ctime(ts)}\"\n",
    "    return fig, status\n",
    "\n",
    "if __name__ == \"__main__\":\n",
    "    app.run(debug=True)\n"
   ]
  },
  {
   "cell_type": "code",
   "execution_count": null,
   "id": "8275a549",
   "metadata": {},
   "outputs": [],
   "source": []
  },
  {
   "cell_type": "code",
   "execution_count": null,
   "id": "2c55079f",
   "metadata": {},
   "outputs": [],
   "source": []
  }
 ],
 "metadata": {
  "kernelspec": {
   "display_name": ".venv",
   "language": "python",
   "name": "python3"
  },
  "language_info": {
   "codemirror_mode": {
    "name": "ipython",
    "version": 3
   },
   "file_extension": ".py",
   "mimetype": "text/x-python",
   "name": "python",
   "nbconvert_exporter": "python",
   "pygments_lexer": "ipython3",
   "version": "3.12.5"
  }
 },
 "nbformat": 4,
 "nbformat_minor": 5
}
